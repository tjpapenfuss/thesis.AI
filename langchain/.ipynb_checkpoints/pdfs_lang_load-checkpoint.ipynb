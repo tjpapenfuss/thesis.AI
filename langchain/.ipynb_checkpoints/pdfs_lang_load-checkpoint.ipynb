{
 "cells": [
  {
   "cell_type": "code",
   "execution_count": 18,
   "id": "fdbc41e2-8959-4e81-bb89-6e7b481b09c9",
   "metadata": {
    "tags": []
   },
   "outputs": [],
   "source": [
    "from langchain.document_loaders import PlaywrightURLLoader\n",
    "from langchain.vectorstores import Chroma\n",
    "from langchain.embeddings import OpenAIEmbeddings\n",
    "from langchain.text_splitter import RecursiveCharacterTextSplitter\n",
    "from langchain.llms import OpenAI\n",
    "from langchain.chains import RetrievalQA\n",
    "from langchain.document_loaders import TextLoader\n",
    "from langchain.document_loaders import PyPDFLoader\n",
    "#import pdfminer\n",
    "#import pdfminer.high_level"
   ]
  },
  {
   "cell_type": "code",
   "execution_count": 19,
   "id": "61d8526d-60dc-4a3f-8820-14ade459f0db",
   "metadata": {
    "tags": []
   },
   "outputs": [],
   "source": [
    "pdfs = [\n",
    "    \"Current State Analysis of Your Data – Part 2 – Data Freshness – TDAN.com.pdf\",\n",
    "    \"Current State Analysis of Your Data – Part 1 – TDAN.com.pdf\",\n",
    "    \"Current State Analysis of Your Data – Part 3 – Data Culture – TDAN.com.pdf\"\n",
    "]\n"
   ]
  },
  {
   "cell_type": "code",
   "execution_count": 21,
   "id": "8a84e2d7-beaa-4990-a264-cf085c9d442c",
   "metadata": {
    "tags": []
   },
   "outputs": [
    {
     "name": "stderr",
     "output_type": "stream",
     "text": [
      "Multiple definitions in dictionary at byte 0x5127b for key /\n",
      "Multiple definitions in dictionary at byte 0x5adc3 for key /\n"
     ]
    }
   ],
   "source": [
    "from PyPDF2 import PdfWriter \n",
    "\n",
    "merger=PdfWriter() \n",
    "for pdf in pdfs: \n",
    "    merger.append(pdf) \n",
    "\n",
    "merger.write(\"current-state-merged-pdf.pdf\") \n",
    "merger.close()"
   ]
  },
  {
   "cell_type": "code",
   "execution_count": 22,
   "id": "7f27ab58-4c23-49e1-a179-f1475be50c3b",
   "metadata": {
    "tags": []
   },
   "outputs": [],
   "source": [
    "loader = PyPDFLoader(\"current-state-merged-pdf.pdf\")\n",
    "data = loader.load()"
   ]
  },
  {
   "cell_type": "code",
   "execution_count": 24,
   "id": "7fe70e20-a88d-4952-891b-32225d79304c",
   "metadata": {},
   "outputs": [],
   "source": [
    "text_splitter = RecursiveCharacterTextSplitter(chunk_size=1000, chunk_overlap=0)\n",
    "texts = text_splitter.split_documents(data)"
   ]
  },
  {
   "cell_type": "code",
   "execution_count": 25,
   "id": "ebb36fb1-346a-4806-9cdd-a77db968ab5c",
   "metadata": {},
   "outputs": [],
   "source": [
    "openai_api_key='...'"
   ]
  },
  {
   "cell_type": "code",
   "execution_count": 26,
   "id": "84487959-501a-46d9-a016-5327edb3bb13",
   "metadata": {},
   "outputs": [
    {
     "name": "stderr",
     "output_type": "stream",
     "text": [
      "Using embedded DuckDB without persistence: data will be transient\n",
      "Using embedded DuckDB without persistence: data will be transient\n"
     ]
    }
   ],
   "source": [
    "embeddings = OpenAIEmbeddings(openai_api_key=openai_api_key)\n",
    "vectordb = Chroma.from_documents(texts, embeddings)\n",
    "docsearch = Chroma.from_documents(texts, embeddings)"
   ]
  },
  {
   "cell_type": "code",
   "execution_count": 27,
   "id": "b8f74192-b130-4c35-b726-d6c551b2bb4d",
   "metadata": {},
   "outputs": [],
   "source": [
    "qa = RetrievalQA.from_chain_type(llm=OpenAI(openai_api_key=openai_api_key), chain_type=\"stuff\", retriever=docsearch.as_retriever())\n"
   ]
  },
  {
   "cell_type": "code",
   "execution_count": null,
   "id": "56d8d65d-820f-46ef-b29f-ab19fd729e6e",
   "metadata": {},
   "outputs": [],
   "source": [
    "query = \"What are some metrics this author recommends?\"\n",
    "qa.run(query)"
   ]
  }
 ],
 "metadata": {
  "kernelspec": {
   "display_name": "Python 3 (ipykernel)",
   "language": "python",
   "name": "python3"
  },
  "language_info": {
   "codemirror_mode": {
    "name": "ipython",
    "version": 3
   },
   "file_extension": ".py",
   "mimetype": "text/x-python",
   "name": "python",
   "nbconvert_exporter": "python",
   "pygments_lexer": "ipython3",
   "version": "3.10.7"
  }
 },
 "nbformat": 4,
 "nbformat_minor": 5
}
